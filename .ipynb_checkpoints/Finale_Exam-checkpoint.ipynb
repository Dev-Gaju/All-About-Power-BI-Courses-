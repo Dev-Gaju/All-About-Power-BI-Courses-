{
 "cells": [
  {
   "cell_type": "code",
   "execution_count": 1,
   "metadata": {},
   "outputs": [],
   "source": [
    "import random\n",
    "import string"
   ]
  },
  {
   "cell_type": "code",
   "execution_count": 22,
   "metadata": {},
   "outputs": [],
   "source": [
    "class Encryption():\n",
    "    \n",
    "    def __init__(self,seed):\n",
    "        \n",
    "        random.seed(seed) #set a random seed\n",
    "        self.seed = seed\n",
    "        \n",
    "        self.encrypted_phrase = ''\n",
    "        \n",
    "        self.true_alphabet = list(string.ascii_lowercase)\n",
    "        self.rand_alphabet = random.sample(self.true_alphabet,len(self.true_alphabet))\n",
    "        \n",
    "\n",
    "        \n",
    "    def encryption(self,message):\n",
    "        \n",
    "        '''\n",
    "        This method take a string a encrypt it\n",
    "        '''\n",
    "        output = ''\n",
    "        \n",
    "        for i in range(len(message)):     # add a random value after every word\n",
    "            output += message[i]\n",
    "            output += random.sample(self.true_alphabet,1)[0]\n",
    "        \n",
    "        self.encrypted_phrase = output[::-1]    #using reverse the string\n",
    "        \n",
    "        encrypted_phrase_two = list(range(len(self.encrypted_phrase)))\n",
    "        \n",
    "        for  i,letter in enumerate(self.encrypted_phrase.lower()):\n",
    "            if letter in self.true_alphabet:\n",
    "                index = self.true_alphabet.index(letter)    #find location of thise alphabet\n",
    "                encrypted_phrase_two[i]=self.rand_alphabet[index]   #match with shufle alphabet\n",
    "            \n",
    "            else:\n",
    "                encrypted_phrase_two[i]=letter    #punctuation and space\n",
    "                \n",
    "        self.encrypted_phrase = ''.join(encrypted_phrase_two)\n",
    "            \n",
    "        return self.encrypted_phrase\n",
    "        "
   ]
  },
  {
   "cell_type": "code",
   "execution_count": 23,
   "metadata": {},
   "outputs": [],
   "source": [
    "e = Encryption(20)"
   ]
  },
  {
   "cell_type": "code",
   "execution_count": 24,
   "metadata": {},
   "outputs": [
    {
     "ename": "TypeError",
     "evalue": "sequence item 1: expected str instance, int found",
     "output_type": "error",
     "traceback": [
      "\u001b[1;31m---------------------------------------------------------------------------\u001b[0m",
      "\u001b[1;31mTypeError\u001b[0m                                 Traceback (most recent call last)",
      "\u001b[1;32m<ipython-input-24-0b1c4cd2d04f>\u001b[0m in \u001b[0;36m<module>\u001b[1;34m\u001b[0m\n\u001b[1;32m----> 1\u001b[1;33m \u001b[0me\u001b[0m\u001b[1;33m.\u001b[0m\u001b[0mencryption\u001b[0m\u001b[1;33m(\u001b[0m\u001b[1;34m'hello world'\u001b[0m\u001b[1;33m)\u001b[0m\u001b[1;33m\u001b[0m\u001b[1;33m\u001b[0m\u001b[0m\n\u001b[0m",
      "\u001b[1;32m<ipython-input-22-b7508e605f07>\u001b[0m in \u001b[0;36mencryption\u001b[1;34m(self, message)\u001b[0m\n\u001b[0;32m     36\u001b[0m                 \u001b[0mencrypted_phrase_two\u001b[0m\u001b[1;33m[\u001b[0m\u001b[0mi\u001b[0m\u001b[1;33m]\u001b[0m\u001b[1;33m=\u001b[0m\u001b[0mletter\u001b[0m    \u001b[1;31m#punctuation and space\u001b[0m\u001b[1;33m\u001b[0m\u001b[1;33m\u001b[0m\u001b[0m\n\u001b[0;32m     37\u001b[0m \u001b[1;33m\u001b[0m\u001b[0m\n\u001b[1;32m---> 38\u001b[1;33m             \u001b[0mself\u001b[0m\u001b[1;33m.\u001b[0m\u001b[0mencrypted_phrase\u001b[0m \u001b[1;33m=\u001b[0m \u001b[1;34m''\u001b[0m\u001b[1;33m.\u001b[0m\u001b[0mjoin\u001b[0m\u001b[1;33m(\u001b[0m\u001b[0mencrypted_phrase_two\u001b[0m\u001b[1;33m)\u001b[0m\u001b[1;33m\u001b[0m\u001b[1;33m\u001b[0m\u001b[0m\n\u001b[0m\u001b[0;32m     39\u001b[0m \u001b[1;33m\u001b[0m\u001b[0m\n\u001b[0;32m     40\u001b[0m             \u001b[1;32mreturn\u001b[0m \u001b[0mself\u001b[0m\u001b[1;33m.\u001b[0m\u001b[0mencrypted_phrase\u001b[0m\u001b[1;33m\u001b[0m\u001b[1;33m\u001b[0m\u001b[0m\n",
      "\u001b[1;31mTypeError\u001b[0m: sequence item 1: expected str instance, int found"
     ]
    }
   ],
   "source": [
    "e.encryption('hello world')"
   ]
  },
  {
   "cell_type": "code",
   "execution_count": null,
   "metadata": {},
   "outputs": [],
   "source": []
  },
  {
   "cell_type": "code",
   "execution_count": null,
   "metadata": {},
   "outputs": [],
   "source": []
  },
  {
   "cell_type": "code",
   "execution_count": null,
   "metadata": {},
   "outputs": [],
   "source": []
  }
 ],
 "metadata": {
  "kernelspec": {
   "display_name": "Python 3",
   "language": "python",
   "name": "python3"
  },
  "language_info": {
   "codemirror_mode": {
    "name": "ipython",
    "version": 3
   },
   "file_extension": ".py",
   "mimetype": "text/x-python",
   "name": "python",
   "nbconvert_exporter": "python",
   "pygments_lexer": "ipython3",
   "version": "3.7.6"
  }
 },
 "nbformat": 4,
 "nbformat_minor": 4
}
